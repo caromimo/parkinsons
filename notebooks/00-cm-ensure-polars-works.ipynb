{
 "cells": [
  {
   "attachments": {},
   "cell_type": "markdown",
   "metadata": {},
   "source": [
    "# Making Polars work\n",
    "\n",
    "This notebook is simply to make sure that Polars works in this environment which is VS Code using [PDM](https://pdm.fming.dev/latest/).\n"
   ]
  },
  {
   "cell_type": "code",
   "execution_count": 11,
   "metadata": {},
   "outputs": [
    {
     "name": "stdout",
     "output_type": "stream",
     "text": [
      "/home/caroline/Projects/kaggle/parkinsons/notebooks\n",
      "shape: (3, 6)\n",
      "┌────────────┬──────┬──────────────┬─────────────┬──────────────┬─────────────┐\n",
      "│ Species    ┆      ┆ Sepal.Length ┆ Sepal.Width ┆ Petal.Length ┆ Petal.Width │\n",
      "│ ---        ┆ ---  ┆ ---          ┆ ---         ┆ ---          ┆ ---         │\n",
      "│ str        ┆ i64  ┆ f64          ┆ f64         ┆ f64          ┆ f64         │\n",
      "╞════════════╪══════╪══════════════╪═════════════╪══════════════╪═════════════╡\n",
      "│ setosa     ┆ 564  ┆ 116.9        ┆ 81.7        ┆ 33.2         ┆ 6.1         │\n",
      "│ virginica  ┆ 6168 ┆ 324.5        ┆ 146.2       ┆ 273.1        ┆ 99.6        │\n",
      "│ versicolor ┆ 3562 ┆ 281.9        ┆ 131.8       ┆ 202.9        ┆ 63.3        │\n",
      "└────────────┴──────┴──────────────┴─────────────┴──────────────┴─────────────┘\n"
     ]
    }
   ],
   "source": [
    "import os\n",
    "print(os.getcwd())\n",
    "\n",
    "import polars as pl\n",
    "\n",
    "q = (\n",
    "    pl.scan_csv(\"../data/interim/iris.csv\")\n",
    "    .filter(pl.col(\"Sepal.Length\") > 5)\n",
    "    .groupby(\"Species\")\n",
    "    .agg(pl.all().sum())\n",
    ")\n",
    "\n",
    "df = q.collect()\n",
    "\n",
    "print(df)"
   ]
  }
 ],
 "metadata": {
  "kernelspec": {
   "display_name": "Python 3",
   "language": "python",
   "name": "python3"
  },
  "language_info": {
   "codemirror_mode": {
    "name": "ipython",
    "version": 3
   },
   "file_extension": ".py",
   "mimetype": "text/x-python",
   "name": "python",
   "nbconvert_exporter": "python",
   "pygments_lexer": "ipython3",
   "version": "3.11.1"
  },
  "orig_nbformat": 4
 },
 "nbformat": 4,
 "nbformat_minor": 2
}
