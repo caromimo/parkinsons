{
 "cells": [
  {
   "attachments": {},
   "cell_type": "markdown",
   "metadata": {},
   "source": [
    "# Initial data exploration"
   ]
  },
  {
   "cell_type": "code",
   "execution_count": 2,
   "metadata": {},
   "outputs": [],
   "source": [
    "import polars as pl\n",
    "import matplotlib.pyplot as plot\n",
    "import seaborn as sns"
   ]
  },
  {
   "cell_type": "code",
   "execution_count": 3,
   "metadata": {},
   "outputs": [
    {
     "name": "stdout",
     "output_type": "stream",
     "text": [
      "shape: (173, 8)\n",
      "┌─────────┬───────┬─────┬─────┬──────────────┬─────────────┬──────────────┬───────┐\n",
      "│ Subject ┆ Visit ┆ Age ┆ Sex ┆ YearsSinceDx ┆ UPDRSIII_On ┆ UPDRSIII_Off ┆ NFOGQ │\n",
      "│ ---     ┆ ---   ┆ --- ┆ --- ┆ ---          ┆ ---         ┆ ---          ┆ ---   │\n",
      "│ str     ┆ i64   ┆ i64 ┆ str ┆ f64          ┆ i64         ┆ i64          ┆ i64   │\n",
      "╞═════════╪═══════╪═════╪═════╪══════════════╪═════════════╪══════════════╪═══════╡\n",
      "│ 04fcdb  ┆ 1     ┆ 63  ┆ M   ┆ 3.0          ┆ 30          ┆ null         ┆ 0     │\n",
      "│ 05595e  ┆ 1     ┆ 56  ┆ M   ┆ 8.0          ┆ 28          ┆ null         ┆ 0     │\n",
      "│ 0967b2  ┆ 1     ┆ 59  ┆ M   ┆ 10.0         ┆ 38          ┆ 48           ┆ 19    │\n",
      "│ 0967b2  ┆ 2     ┆ 59  ┆ M   ┆ 10.0         ┆ 37          ┆ 44           ┆ 13    │\n",
      "│ …       ┆ …     ┆ …   ┆ …   ┆ …            ┆ …           ┆ …            ┆ …     │\n",
      "│ fc1e1b  ┆ 1     ┆ 82  ┆ F   ┆ 11.0         ┆ 38          ┆ 42           ┆ 21    │\n",
      "│ fe5d84  ┆ 2     ┆ 72  ┆ M   ┆ 14.0         ┆ 32          ┆ 45           ┆ 17    │\n",
      "│ fe5d84  ┆ 1     ┆ 72  ┆ F   ┆ 14.0         ┆ 13          ┆ 33           ┆ 15    │\n",
      "│ ffa798  ┆ 1     ┆ 55  ┆ F   ┆ 9.0          ┆ 14          ┆ null         ┆ 0     │\n",
      "└─────────┴───────┴─────┴─────┴──────────────┴─────────────┴──────────────┴───────┘\n"
     ]
    },
    {
     "data": {
      "text/plain": [
       "polars.dataframe.frame.DataFrame"
      ]
     },
     "execution_count": 3,
     "metadata": {},
     "output_type": "execute_result"
    }
   ],
   "source": [
    "q = (\n",
    "    pl.scan_csv(\"../data/raw/subjects.csv\")\n",
    ")\n",
    "\n",
    "df = q.collect()\n",
    "\n",
    "print(df)\n",
    "type(df)"
   ]
  },
  {
   "cell_type": "code",
   "execution_count": 4,
   "metadata": {},
   "outputs": [
    {
     "name": "stdout",
     "output_type": "stream",
     "text": [
      "shape: (1, 8)\n",
      "┌─────────┬──────────┬───────────┬──────┬──────────────┬─────────────┬──────────────┬───────────┐\n",
      "│ Subject ┆ Visit    ┆ Age       ┆ Sex  ┆ YearsSinceDx ┆ UPDRSIII_On ┆ UPDRSIII_Off ┆ NFOGQ     │\n",
      "│ ---     ┆ ---      ┆ ---       ┆ ---  ┆ ---          ┆ ---         ┆ ---          ┆ ---       │\n",
      "│ str     ┆ f64      ┆ f64       ┆ str  ┆ f64          ┆ f64         ┆ f64          ┆ f64       │\n",
      "╞═════════╪══════════╪═══════════╪══════╪══════════════╪═════════════╪══════════════╪═══════════╡\n",
      "│ null    ┆ 1.369369 ┆ 67.763006 ┆ null ┆ 10.383931    ┆ 34.273256   ┆ 42.878788    ┆ 17.121387 │\n",
      "└─────────┴──────────┴───────────┴──────┴──────────────┴─────────────┴──────────────┴───────────┘\n"
     ]
    }
   ],
   "source": [
    "averages = df.mean()\n",
    "print(averages)"
   ]
  },
  {
   "cell_type": "code",
   "execution_count": 10,
   "metadata": {},
   "outputs": [
    {
     "data": {
      "image/png": "[encoded data removed]",
      "text/plain": [
       "<Figure size 640x480 with 1 Axes>"
      ]
     },
     "metadata": {},
     "output_type": "display_data"
    }
   ],
   "source": [
    "plot.hist(df.select(\"Age\"), bins=20) \n",
    "plot.xlabel('Age')\n",
    "plot.ylabel('Probability')\n",
    "plot.show()"
   ]
  }
 ],
 "metadata": {
  "kernelspec": {
   "display_name": "Python 3",
   "language": "python",
   "name": "python3"
  },
  "language_info": {
   "codemirror_mode": {
    "name": "ipython",
    "version": 3
   },
   "file_extension": ".py",
   "mimetype": "text/x-python",
   "name": "python",
   "nbconvert_exporter": "python",
   "pygments_lexer": "ipython3",
   "version": "3.11.3"
  },
  "orig_nbformat": 4
 },
 "nbformat": 4,
 "nbformat_minor": 2
}
